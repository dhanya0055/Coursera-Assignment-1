{
 "cells": [
  {
   "cell_type": "markdown",
   "id": "135de0a8",
   "metadata": {},
   "source": [
    "# Data Science Tools and Ecosystem"
   ]
  },
  {
   "cell_type": "markdown",
   "id": "6052f770",
   "metadata": {},
   "source": [
    "In this notebook, Data Science Tools and Ecosystem are summarized"
   ]
  },
  {
   "cell_type": "markdown",
   "id": "ee4224fd",
   "metadata": {},
   "source": [
    "## Objectives:\n",
    " : List of languages that Data Scientists used\n",
    " \n",
    " : List of libraries that Data Scientists used\n",
    " \n",
    " : Arthematic functions"
   ]
  },
  {
   "cell_type": "markdown",
   "id": "a1a754f1",
   "metadata": {},
   "source": [
    "Some of the popular languages that Data Scientists use are:\n",
    "\n",
    "1.Python\n",
    "\n",
    "2.R\n",
    "\n",
    "3.SQL\n",
    "\n",
    "4.Java\n",
    "\n",
    "5.Julia\n",
    "\n",
    "6.Scala\n",
    "\n",
    "7.C/C++\n",
    "\n",
    "8.JavaScript."
   ]
  },
  {
   "cell_type": "markdown",
   "id": "9bd8a12b",
   "metadata": {},
   "source": [
    "Some of the commonly used libraries used by Data Scientists include:\n",
    "\n",
    "1.NumPy\n",
    "\n",
    "2.Keras\n",
    "\n",
    "3.Pandas\n",
    "\n",
    "4.PyTorch\n",
    "\n",
    "5.SciPy\n",
    "\n",
    "6.Scikit-Learn\n",
    "\n",
    "7.TensorFlow"
   ]
  },
  {
   "cell_type": "markdown",
   "id": "88337728",
   "metadata": {},
   "source": [
    "### Below are a few examples of evaluating arithmetic expressions in Python"
   ]
  },
  {
   "cell_type": "code",
   "execution_count": 1,
   "id": "615179cf",
   "metadata": {},
   "outputs": [
    {
     "data": {
      "text/plain": [
       "17"
      ]
     },
     "execution_count": 1,
     "metadata": {},
     "output_type": "execute_result"
    }
   ],
   "source": [
    "#This a simple arithmetic expression to mutiply then add integers\n",
    "\n",
    "(3*4)+5"
   ]
  },
  {
   "cell_type": "code",
   "execution_count": 2,
   "id": "4aa5263a",
   "metadata": {},
   "outputs": [
    {
     "data": {
      "text/plain": [
       "3.3333333333333335"
      ]
     },
     "execution_count": 2,
     "metadata": {},
     "output_type": "execute_result"
    }
   ],
   "source": [
    "# This will convert 200 minutes to hours by diving by 60\n",
    "\n",
    "200/60"
   ]
  },
  {
   "cell_type": "markdown",
   "id": "67192143",
   "metadata": {},
   "source": [
    "## Author\n",
    "Dhanya"
   ]
  },
  {
   "cell_type": "code",
   "execution_count": null,
   "id": "a416894f",
   "metadata": {},
   "outputs": [],
   "source": []
  }
 ],
 "metadata": {
  "kernelspec": {
   "display_name": "Python 3 (ipykernel)",
   "language": "python",
   "name": "python3"
  },
  "language_info": {
   "codemirror_mode": {
    "name": "ipython",
    "version": 3
   },
   "file_extension": ".py",
   "mimetype": "text/x-python",
   "name": "python",
   "nbconvert_exporter": "python",
   "pygments_lexer": "ipython3",
   "version": "3.9.12"
  }
 },
 "nbformat": 4,
 "nbformat_minor": 5
}
